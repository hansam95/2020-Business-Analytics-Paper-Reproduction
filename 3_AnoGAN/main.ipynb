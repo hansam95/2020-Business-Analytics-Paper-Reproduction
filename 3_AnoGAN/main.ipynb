{
 "cells": [
  {
   "cell_type": "code",
   "execution_count": 1,
   "metadata": {},
   "outputs": [],
   "source": [
    "import os\n",
    "import easydict\n",
    "import matplotlib.pyplot as plt\n",
    "\n",
    "import torch\n",
    "import torch.nn as nn\n",
    "import torch.optim as optim\n",
    "from torch.utils.data import DataLoader\n",
    "import torchvision.transforms as transforms\n",
    "from torchvision.datasets import MNIST\n",
    "\n",
    "\n",
    "from utils import anomaly_score\n",
    "from model_mnist import Generator, Discriminator, init_weights\n",
    "from train import train"
   ]
  },
  {
   "cell_type": "code",
   "execution_count": 2,
   "metadata": {},
   "outputs": [],
   "source": [
    "# Parameter\n",
    "args = easydict.EasyDict({\n",
    "    \"data_dir\"  : './data',\n",
    "    \"log_dir\"   : './runs',\n",
    "    \"ckpt_dir\"  : './ckpt',\n",
    "    \"device\"    : torch.device('cuda:0'),\n",
    "    \"batch_size\": 256,\n",
    "    \"lr\"        : 2e-4,    \n",
    "    \"train_epoch\" : 20,\n",
    "    \"latent_iter\" : 500\n",
    "})"
   ]
  },
  {
   "cell_type": "code",
   "execution_count": 3,
   "metadata": {
    "scrolled": true
   },
   "outputs": [],
   "source": [
    "# Train dataloader\n",
    "transform = transforms.Compose([\n",
    "    transforms.ToTensor(),\n",
    "    transforms.Normalize(0.5, 0.5)\n",
    "])\n",
    "train_dataset = MNIST(args.data_dir, transform=transform, train=True, download=True)\n",
    "idx = train_dataset.targets==1\n",
    "train_dataset.data = train_dataset.data[idx]\n",
    "train_dataset.targets = train_dataset.targets[idx]\n",
    "train_loader  = DataLoader(train_dataset, batch_size=args.batch_size, shuffle=True, num_workers=2)"
   ]
  },
  {
   "cell_type": "code",
   "execution_count": 4,
   "metadata": {
    "scrolled": true
   },
   "outputs": [
    {
     "name": "stdout",
     "output_type": "stream",
     "text": [
      "Epoch 0 Train Start\n",
      "Epoch 0 | G_loss 3.8490 | D_loss 0.2356 | Time 5.62\n",
      "----------------------------------------------------------------------------------------------------\n",
      "Epoch 1 Train Start\n",
      "Epoch 1 | G_loss 4.4676 | D_loss 0.0717 | Time 4.73\n",
      "----------------------------------------------------------------------------------------------------\n",
      "Epoch 2 Train Start\n",
      "Epoch 2 | G_loss 4.5280 | D_loss 0.2726 | Time 4.67\n",
      "----------------------------------------------------------------------------------------------------\n",
      "Epoch 3 Train Start\n",
      "Epoch 3 | G_loss 4.7138 | D_loss 0.1320 | Time 4.64\n",
      "----------------------------------------------------------------------------------------------------\n",
      "Epoch 4 Train Start\n",
      "Epoch 4 | G_loss 3.1300 | D_loss 0.5954 | Time 4.65\n",
      "----------------------------------------------------------------------------------------------------\n",
      "Epoch 5 Train Start\n",
      "Epoch 5 | G_loss 2.9429 | D_loss 0.4045 | Time 4.69\n",
      "----------------------------------------------------------------------------------------------------\n",
      "Epoch 6 Train Start\n",
      "Epoch 6 | G_loss 2.6631 | D_loss 0.5110 | Time 4.71\n",
      "----------------------------------------------------------------------------------------------------\n",
      "Epoch 7 Train Start\n",
      "Epoch 7 | G_loss 2.5866 | D_loss 0.4611 | Time 4.99\n",
      "----------------------------------------------------------------------------------------------------\n",
      "Epoch 8 Train Start\n",
      "Epoch 8 | G_loss 2.5205 | D_loss 0.3855 | Time 5.40\n",
      "----------------------------------------------------------------------------------------------------\n",
      "Epoch 9 Train Start\n",
      "Epoch 9 | G_loss 2.4220 | D_loss 0.6089 | Time 4.97\n",
      "----------------------------------------------------------------------------------------------------\n",
      "Epoch 10 Train Start\n",
      "Epoch 10 | G_loss 2.4721 | D_loss 0.4032 | Time 5.11\n",
      "----------------------------------------------------------------------------------------------------\n",
      "Epoch 11 Train Start\n",
      "Epoch 11 | G_loss 2.2307 | D_loss 0.7908 | Time 4.84\n",
      "----------------------------------------------------------------------------------------------------\n",
      "Epoch 12 Train Start\n",
      "Epoch 12 | G_loss 2.2068 | D_loss 0.5250 | Time 4.82\n",
      "----------------------------------------------------------------------------------------------------\n",
      "Epoch 13 Train Start\n",
      "Epoch 13 | G_loss 2.4096 | D_loss 0.4610 | Time 4.89\n",
      "----------------------------------------------------------------------------------------------------\n",
      "Epoch 14 Train Start\n",
      "Epoch 14 | G_loss 2.2755 | D_loss 0.6064 | Time 4.90\n",
      "----------------------------------------------------------------------------------------------------\n",
      "Epoch 15 Train Start\n",
      "Epoch 15 | G_loss 2.2780 | D_loss 0.4239 | Time 4.91\n",
      "----------------------------------------------------------------------------------------------------\n",
      "Epoch 16 Train Start\n",
      "Epoch 16 | G_loss 1.9186 | D_loss 0.9308 | Time 4.87\n",
      "----------------------------------------------------------------------------------------------------\n",
      "Epoch 17 Train Start\n",
      "Epoch 17 | G_loss 2.0233 | D_loss 0.5877 | Time 4.92\n",
      "----------------------------------------------------------------------------------------------------\n",
      "Epoch 18 Train Start\n",
      "Epoch 18 | G_loss 2.0270 | D_loss 0.7137 | Time 4.92\n",
      "----------------------------------------------------------------------------------------------------\n",
      "Epoch 19 Train Start\n",
      "Epoch 19 | G_loss 1.9922 | D_loss 0.5424 | Time 4.81\n",
      "----------------------------------------------------------------------------------------------------\n"
     ]
    }
   ],
   "source": [
    "# Train\n",
    "train(train_loader, args)"
   ]
  },
  {
   "cell_type": "code",
   "execution_count": 14,
   "metadata": {},
   "outputs": [
    {
     "data": {
      "text/plain": [
       "<All keys matched successfully>"
      ]
     },
     "execution_count": 14,
     "metadata": {},
     "output_type": "execute_result"
    }
   ],
   "source": [
    "# Load Best Generator and Discriminator\n",
    "last_epoch = 'epoch19.pth'\n",
    "ckpt_path = args.ckpt_dir + '/' + last_epoch \n",
    "ckpt = torch.load(ckpt_path)\n",
    "\n",
    "netG = Generator(d=64).to(args.device)\n",
    "netD = Discriminator(d=64).to(args.device)\n",
    "netG.load_state_dict(ckpt['netG'])\n",
    "netD.load_state_dict(ckpt['netD'])"
   ]
  },
  {
   "cell_type": "code",
   "execution_count": 15,
   "metadata": {},
   "outputs": [],
   "source": [
    "# Load test data and noise \n",
    "test_num = [0, 1, 2]\n",
    "x_test = []\n",
    "z_test = []\n",
    "for n in test_num:\n",
    "    test_dataset = MNIST(args.data_dir, transform=transform, train=False, download=True)    \n",
    "    idx = test_dataset.targets==n\n",
    "    test_dataset.data = test_dataset.data[idx]\n",
    "    test_dataset.targets = test_dataset.targets[idx]\n",
    "    x_n = test_dataset[0][0].reshape((1,1,28,28)).to(args.device)\n",
    "    z_n = torch.randn(1, 100, 1, 1, device=args.device)\n",
    "    z_n.requires_grad=True\n",
    "    \n",
    "    x_test.append(x_n)\n",
    "    z_test.append(z_n)"
   ]
  },
  {
   "cell_type": "code",
   "execution_count": 16,
   "metadata": {
    "scrolled": true
   },
   "outputs": [
    {
     "name": "stdout",
     "output_type": "stream",
     "text": [
      "Iteration  0 | Loss 0.4786\n",
      "Iteration  100 | Loss 0.4714\n",
      "Iteration  200 | Loss 0.4637\n",
      "Iteration  300 | Loss 0.4562\n",
      "Iteration  400 | Loss 0.4508\n",
      "Iteration  0 | Loss 0.1947\n",
      "Iteration  100 | Loss 0.1884\n",
      "Iteration  200 | Loss 0.1759\n",
      "Iteration  300 | Loss 0.1404\n",
      "Iteration  400 | Loss 0.1164\n",
      "Iteration  0 | Loss 0.3564\n",
      "Iteration  100 | Loss 0.3519\n",
      "Iteration  200 | Loss 0.3487\n",
      "Iteration  300 | Loss 0.3469\n",
      "Iteration  400 | Loss 0.3453\n"
     ]
    }
   ],
   "source": [
    "# Generate similar data by trained generator\n",
    "result = []\n",
    "for i in range(3):    \n",
    "    optimizer = optim.Adam([z_test[i]], lr=args.lr, betas=(0.5, 0.999))\n",
    "    \n",
    "    for step in range(args.latent_iter):        \n",
    "        optimizer.zero_grad()\n",
    "        loss = anomaly_score(x_test[i], z_test[i], netD, netG, lam=0.1)\n",
    "        loss.backward()\n",
    "        optimizer.step()\n",
    "        \n",
    "        if(step%100==0):\n",
    "            print(\"Iteration {0: d} | Loss {1:.4f}\".format(step, loss.item()))\n",
    "    \n",
    "    img = netG(z_test[i])\n",
    "    score = loss.item()            \n",
    "    result.append([img, loss])"
   ]
  },
  {
   "cell_type": "code",
   "execution_count": 17,
   "metadata": {},
   "outputs": [
    {
     "data": {
      "image/png": "[encoded data removed]",
      "text/plain": [
       "<Figure size 720x720 with 9 Axes>"
      ]
     },
     "metadata": {
      "needs_background": "light"
     },
     "output_type": "display_data"
    }
   ],
   "source": [
    "# Visualize result\n",
    "fig, axes = plt.subplots(3, 3, figsize=(10,10))\n",
    "\n",
    "for i, ax in enumerate(axes):\n",
    "    ax[0].imshow(x_test[i].detach().to('cpu').reshape((28,28)), cmap='gray')\n",
    "    ax[0].set_ylabel(round(result[i][1].item(), 4), size=15)\n",
    "    if(i==0):\n",
    "        ax[0].set_title(\"Real Image\", size=15)\n",
    "    \n",
    "    ax[1].imshow(result[i][0].detach().to('cpu').reshape((28,28)), cmap='gray')\n",
    "    if(i==0):\n",
    "        ax[1].set_title(\"Generated Image\", size=15)\n",
    "    \n",
    "    residual_loss = torch.abs(x_test[i] - result[i][0])\n",
    "    ax[2].imshow((residual_loss>1).detach().to('cpu').reshape((28,28)), cmap='gray')\n",
    "    if(i==0):\n",
    "        ax[2].set_title(\"Residual Loss > 1\", size=15)\n",
    "\n",
    "plt.show()"
   ]
  },
  {
   "cell_type": "code",
   "execution_count": null,
   "metadata": {},
   "outputs": [],
   "source": []
  }
 ],
 "metadata": {
  "kernelspec": {
   "display_name": "Python 3",
   "language": "python",
   "name": "python3"
  },
  "language_info": {
   "codemirror_mode": {
    "name": "ipython",
    "version": 3
   },
   "file_extension": ".py",
   "mimetype": "text/x-python",
   "name": "python",
   "nbconvert_exporter": "python",
   "pygments_lexer": "ipython3",
   "version": "3.7.7"
  }
 },
 "nbformat": 4,
 "nbformat_minor": 4
}
