{
 "cells": [
  {
   "cell_type": "code",
   "execution_count": 38,
   "metadata": {},
   "outputs": [],
   "source": [
    "import torch\n",
    "import torch.nn as nn\n",
    "import torch.optim as optim\n",
    "from torch.utils.data import DataLoader\n",
    "import torchvision\n",
    "import torchvision.transforms as transforms\n",
    "import matplotlib.pyplot as plt\n",
    "import numpy as np"
   ]
  },
  {
   "cell_type": "code",
   "execution_count": 39,
   "metadata": {},
   "outputs": [],
   "source": [
    "lr = 1e-2\n",
    "num_epoch = 30\n",
    "batch_size = 128\n",
    "torch.manual_seed(123)\n",
    "\n",
    "transform = transforms.Compose([\n",
    "    transforms.ToTensor(),\n",
    "    transforms.Normalize((0.1307,),(0.3081,))\n",
    "])\n",
    "\n",
    "trainset = torchvision.datasets.MNIST('./data', train=True, download=True, transform=transform)\n",
    "testset  = torchvision.datasets.MNIST('./data', train=False, download=True, transform=transform)\n",
    "\n",
    "trainloader = DataLoader(trainset, batch_size=batch_size, shuffle=True, num_workers=2)\n",
    "testloader  = DataLoader(testset, batch_size=batch_size, shuffle=True, num_workers=2)"
   ]
  },
  {
   "cell_type": "code",
   "execution_count": 40,
   "metadata": {},
   "outputs": [],
   "source": [
    "class Autoencoder(nn.Module):\n",
    "    def __init__(self, h_dim, fine_tune=False):\n",
    "        super(Autoencoder,self).__init__()\n",
    "        self.h_dim = h_dim\n",
    "        self.fine_tune=fine_tune\n",
    "        \n",
    "        self.encoder=nn.Sequential(\n",
    "            nn.Linear(28*28, 300),\n",
    "            nn.ReLU(),\n",
    "            nn.Linear(300, self.h_dim),\n",
    "            nn.ReLU()\n",
    "        )\n",
    "        \n",
    "        self.decoder=nn.Sequential(\n",
    "            nn.Linear(self.h_dim, 300),\n",
    "            nn.ReLU(),\n",
    "            nn.Linear(300, 28*28),\n",
    "            nn.Sigmoid()\n",
    "        )\n",
    "        \n",
    "        self.classifier=nn.Sequential(\n",
    "            nn.Linear(self.h_dim, 10)\n",
    "        )\n",
    "        \n",
    "    def forward(self,x):\n",
    "        if(self.fine_tune==True):\n",
    "            x = self.encoder(x)\n",
    "            x = self.classifier(x)\n",
    "        else:\n",
    "            x = self.encoder(x)\n",
    "            x = self.decoder(x)\n",
    "        \n",
    "        return x        "
   ]
  },
  {
   "cell_type": "code",
   "execution_count": 4,
   "metadata": {},
   "outputs": [
    {
     "name": "stdout",
     "output_type": "stream",
     "text": [
      "Epoch 0 | Loss 1.044485276962957\n",
      "Epoch 10 | Loss 0.651913678034758\n",
      "Epoch 20 | Loss 0.6207190280796117\n",
      "Epoch 30 | Loss 0.6034192863183144\n",
      "Epoch 40 | Loss 0.5846355091302823\n"
     ]
    }
   ],
   "source": [
    "#Traing Autoencoder\n",
    "ae = Autoencoder(h_dim=100)\n",
    "criterion = nn.MSELoss()\n",
    "optimizer = optim.SGD(ae.parameters(), lr=lr, momentum=0.9)\n",
    "epoch_loss=0\n",
    "\n",
    "ae.train()\n",
    "for epoch in range(num_epoch):\n",
    "    for step, data in enumerate(trainloader):\n",
    "        img, _ = data\n",
    "        img = img.view(-1,784)\n",
    "        optimizer.zero_grad()\n",
    "\n",
    "        output = ae(img)   \n",
    "        loss = criterion(output, img)\n",
    "        loss.backward()\n",
    "        optimizer.step()\n",
    "\n",
    "        epoch_loss += loss.item()    \n",
    "    \n",
    "    if(epoch%10==0):\n",
    "        print('Epoch {0} | Loss {1}'.format(epoch, epoch_loss/step))\n",
    "    epoch_loss = 0"
   ]
  },
  {
   "cell_type": "code",
   "execution_count": 16,
   "metadata": {},
   "outputs": [
    {
     "name": "stdout",
     "output_type": "stream",
     "text": [
      "Epoch 0 | Loss 1.0258562492254453\n",
      "Epoch 10 | Loss 0.6638060841295454\n",
      "Epoch 20 | Loss 0.6285566842963553\n",
      "Epoch 30 | Loss 0.6089223083267864\n",
      "Epoch 40 | Loss 0.5954351525785576\n"
     ]
    }
   ],
   "source": [
    "# Denoising Autoencoder\n",
    "dae = Autoencoder(h_dim=100)\n",
    "criterion = nn.MSELoss()\n",
    "optimizer = optim.SGD(dae.parameters(), lr=lr, momentum=0.9)\n",
    "epoch_loss=0\n",
    "\n",
    "dae.train()\n",
    "for epoch in range(num_epoch):\n",
    "    for step, data in enumerate(trainloader):\n",
    "        img, _ = data\n",
    "        img_noise = img+torch.randn(img.size())\n",
    "        img = img.view(-1,784)\n",
    "        img_noise = img_noise.view(-1,784)\n",
    "        optimizer.zero_grad()\n",
    "\n",
    "        output = dae(img_noise)   \n",
    "        loss = criterion(output, img)\n",
    "        loss.backward()\n",
    "        optimizer.step()\n",
    "\n",
    "        epoch_loss += loss.item()    \n",
    "    \n",
    "    if(epoch%10==0):\n",
    "        print('Epoch {0} | Loss {1}'.format(epoch, epoch_loss/step))\n",
    "    epoch_loss = 0"
   ]
  },
  {
   "cell_type": "code",
   "execution_count": 77,
   "metadata": {},
   "outputs": [
    {
     "data": {
      "image/png": "[encoded data removed]",
      "text/plain": [
       "<Figure size 1080x720 with 8 Axes>"
      ]
     },
     "metadata": {
      "needs_background": "light"
     },
     "output_type": "display_data"
    }
   ],
   "source": [
    "test_iter = iter(testset)\n",
    "img, _ = next(test_iter)\n",
    "img_noise = img+torch.randn(img.size())\n",
    "\n",
    "ae_recon = ae(img.view(-1,784))\n",
    "ae_recon = ae_recon.view((28,28,1)).detach().numpy()\n",
    "ae_recon_noise = ae(img_noise.view(-1,784))\n",
    "ae_recon_noise = ae_recon_noise.view((28,28,1)).detach().numpy()\n",
    "\n",
    "dae_recon = dae(img.view(-1,784))\n",
    "dae_recon = dae_recon.view((28,28,1)).detach().numpy()\n",
    "dae_recon_noise = dae(img_noise.view(-1,784))\n",
    "dae_recon_noise = dae_recon_noise.view((28,28,1)).detach().numpy()\n",
    "\n",
    "img = img.view((28,28,1)).detach().numpy()\n",
    "img_noise = img_noise.view((28,28,1)).detach().numpy()\n",
    "\n",
    "img_list = [img, img, img_noise, img_noise, ae_recon, dae_recon, ae_recon_noise, dae_recon_noise]\n",
    "\n",
    "fig, axes = plt.subplots(nrows=2, ncols=4, figsize=(15,10))\n",
    "axes = np.reshape(axes, (-1))\n",
    "\n",
    "for i, ax in enumerate(axes):\n",
    "    ax.imshow(img_list[i], cmap='gray')\n",
    "    \n",
    "plt.show()"
   ]
  },
  {
   "cell_type": "code",
   "execution_count": 90,
   "metadata": {},
   "outputs": [
    {
     "name": "stdout",
     "output_type": "stream",
     "text": [
      "Epoch 0 | Loss 12.322694822763784\n",
      "Epoch 10 | Loss 3.3378666613855934\n",
      "Epoch 20 | Loss 2.820906828675005\n"
     ]
    }
   ],
   "source": [
    "ae_classifier = Autoencoder(h_dim=100, fine_tune=True)\n",
    "ae_classifier.load_state_dict(ae.state_dict())\n",
    "# Freeze layer\n",
    "for param in ae_classifier.encoder.parameters():\n",
    "    param.requires_grad = False\n",
    "\n",
    "criterion = nn.CrossEntropyLoss()\n",
    "optimizer = optim.SGD(ae_classifier.parameters(), lr=lr, momentum=0.9)\n",
    "epoch_loss=0\n",
    "\n",
    "ae_classifier.train()\n",
    "for epoch in range(num_epoch):\n",
    "    for step, data in enumerate(trainloader):\n",
    "        img, label = data\n",
    "        img = img.view(-1,784)\n",
    "        optimizer.zero_grad()\n",
    "\n",
    "        output = ae_classifier(img)   \n",
    "        loss = criterion(output, label)\n",
    "        loss.backward()\n",
    "        optimizer.step()\n",
    "\n",
    "        epoch_loss += loss.item()    \n",
    "    \n",
    "    if(epoch%10==0):\n",
    "        print('Epoch {0} | Loss {1}'.format(epoch, epoch_loss/step))\n",
    "    epoch_loss = 0"
   ]
  },
  {
   "cell_type": "code",
   "execution_count": 91,
   "metadata": {},
   "outputs": [
    {
     "name": "stdout",
     "output_type": "stream",
     "text": [
      "Epoch 0 | Loss 9.03198571694203\n",
      "Epoch 10 | Loss 2.2921521197526884\n",
      "Epoch 20 | Loss 2.585398367072782\n"
     ]
    }
   ],
   "source": [
    "dae_classifier = Autoencoder(h_dim=100, fine_tune=True)\n",
    "dae_classifier.load_state_dict(dae.state_dict())\n",
    "# Freeze layer\n",
    "for param in dae_classifier.encoder.parameters():\n",
    "    param.requires_grad = False\n",
    "\n",
    "criterion = nn.CrossEntropyLoss()\n",
    "optimizer = optim.SGD(dae_classifier.parameters(), lr=lr, momentum=0.9)\n",
    "epoch_loss=0\n",
    "\n",
    "dae_classifier.train()\n",
    "for epoch in range(num_epoch):\n",
    "    for step, data in enumerate(trainloader):\n",
    "        img, label = data\n",
    "        img = img.view(-1,784)\n",
    "        optimizer.zero_grad()\n",
    "\n",
    "        output = dae_classifier(img)   \n",
    "        loss = criterion(output, label)\n",
    "        loss.backward()\n",
    "        optimizer.step()\n",
    "\n",
    "        epoch_loss += loss.item()    \n",
    "    \n",
    "    if(epoch%10==0):\n",
    "        print('Epoch {0} | Loss {1}'.format(epoch, epoch_loss/step))\n",
    "    epoch_loss = 0"
   ]
  },
  {
   "cell_type": "code",
   "execution_count": 97,
   "metadata": {},
   "outputs": [],
   "source": [
    "ae_classifier.eval()\n",
    "dae_classifier.eval()\n",
    "ae_accuracy = 0\n",
    "dae_accuracy = 0\n",
    "\n",
    "for step, data in enumerate(testloader):\n",
    "    img, label = data\n",
    "    img = img.view(-1,784)\n",
    "    \n",
    "    ae_output  = ae_classifier(img) \n",
    "    dae_output = dae_classifier(img)\n",
    "    \n",
    "    ae_probs = torch.softmax(ae_output, dim=1)\n",
    "    ae_winners = ae_probs.argmax(dim=1)\n",
    "    ae_corrects = (ae_winners == label)\n",
    "    ae_accuracy += (ae_corrects.sum().float() / float(label.size(0)))\n",
    "    \n",
    "    dae_probs = torch.softmax(dae_output, dim=1)\n",
    "    dae_winners = dae_probs.argmax(dim=1)\n",
    "    dae_corrects = (dae_winners == label)\n",
    "    dae_accuracy += dae_corrects.sum().float() / float(label.size(0))    \n",
    "    \n",
    "ae_accuracy = ae_accuracy/(step+1)\n",
    "dae_accuracy = dae_accuracy/(step+1)"
   ]
  },
  {
   "cell_type": "code",
   "execution_count": 98,
   "metadata": {},
   "outputs": [
    {
     "data": {
      "text/plain": [
       "tensor(0.8052)"
      ]
     },
     "execution_count": 98,
     "metadata": {},
     "output_type": "execute_result"
    }
   ],
   "source": [
    "ae_accuracy"
   ]
  },
  {
   "cell_type": "code",
   "execution_count": 99,
   "metadata": {},
   "outputs": [
    {
     "data": {
      "text/plain": [
       "tensor(0.8786)"
      ]
     },
     "execution_count": 99,
     "metadata": {},
     "output_type": "execute_result"
    }
   ],
   "source": [
    "dae_accuracy"
   ]
  },
  {
   "cell_type": "code",
   "execution_count": null,
   "metadata": {},
   "outputs": [],
   "source": []
  }
 ],
 "metadata": {
  "kernelspec": {
   "display_name": "Python 3",
   "language": "python",
   "name": "python3"
  },
  "language_info": {
   "codemirror_mode": {
    "name": "ipython",
    "version": 3
   },
   "file_extension": ".py",
   "mimetype": "text/x-python",
   "name": "python",
   "nbconvert_exporter": "python",
   "pygments_lexer": "ipython3",
   "version": "3.7.8"
  }
 },
 "nbformat": 4,
 "nbformat_minor": 4
}
